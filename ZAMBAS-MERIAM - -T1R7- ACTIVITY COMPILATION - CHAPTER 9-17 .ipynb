{
 "cells": [
  {
   "cell_type": "code",
   "execution_count": 3,
   "id": "hairy-system",
   "metadata": {},
   "outputs": [
    {
     "name": "stdout",
     "output_type": "stream",
     "text": [
      "Discuss your learnings on from Chapter 9 to Chapter 17\n",
      "\n",
      "Chapter 9 Learnings:\n",
      "\n",
      "The Graph Introduction is a pictorial representation of a set of objects where some pairs of objects are connected by links. The interconnected objects are represented by points termed as vertices, and the links that connect the vertices are called edges. The examples of this chapter which is graph introduction  is a common data structure that consists of a finite set of nodes (or vertices) and a set of edges connecting them. A pair (x,y) is referred to as an edge, which communicates that the x vertex connects to the y vertex. In the examples below, circles represent vertices, while lines represent edges. Why is it important the graph introduction it because a lot of beginners and experienced programmers avoid learning Data Structures and Algorithms because it’s complicated and they think that there is no use of all the above stuff in real life. So before we discuss the topic we are going to throw a simple problem at you and you need to find the solution for that. \n"
     ]
    }
   ],
   "source": [
    "print(\"Discuss your learnings on from Chapter 9 to Chapter 17\")\n",
    "print(\"\")\n",
    "print(\"Chapter 9 Learnings:\")\n",
    "print(\"\")\n",
    "print(\"The Graph Introduction is a pictorial representation of a set of objects where some pairs of objects are connected by links. The interconnected objects are represented by points termed as vertices, and the links that connect the vertices are called edges. The examples of this chapter which is graph introduction  is a common data structure that consists of a finite set of nodes (or vertices) and a set of edges connecting them. A pair (x,y) is referred to as an edge, which communicates that the x vertex connects to the y vertex. In the examples below, circles represent vertices, while lines represent edges. Why is it important the graph introduction it because a lot of beginners and experienced programmers avoid learning Data Structures and Algorithms because it’s complicated and they think that there is no use of all the above stuff in real life. So before we discuss the topic we are going to throw a simple problem at you and you need to find the solution for that. \")"
   ]
  },
  {
   "cell_type": "code",
   "execution_count": 4,
   "id": "ecological-tamil",
   "metadata": {},
   "outputs": [
    {
     "name": "stdout",
     "output_type": "stream",
     "text": [
      "Chapter 10 Learnings:\n",
      "\n",
      "Binary search is an efficient algorithm for finding an item from a sorted list of items. It works by repeatedly dividing in half the portion of the list that could contain the item, until you’ve narrowed down the possible locations to just one. The example of this chapter 10 is having an array of 10 digits, and the element 59 needs to be found. All the elements are marked with the index from 0 – 9. The algorithm drops all the elements from the middle (4) to the lowest bound because 59 is greater than 24, and now the array is left with 5 elements only. Binary search looks for a particular item by comparing the middle most item of the collection. If a match occurs, then the index of item is returned. If the middle item is greater than the item, then the item is searched in the sub-array to the left of the middle item. Otherwise, the item is searched for in the sub-array to the right of the middle item. This process continues on the sub-array as well until the size of the subarray reduces to zero.\n"
     ]
    }
   ],
   "source": [
    "print(\"Chapter 10 Learnings:\")\n",
    "print(\"\")\n",
    "print(\"Binary search is an efficient algorithm for finding an item from a sorted list of items. It works by repeatedly dividing in half the portion of the list that could contain the item, until you’ve narrowed down the possible locations to just one. The example of this chapter 10 is having an array of 10 digits, and the element 59 needs to be found. All the elements are marked with the index from 0 – 9. The algorithm drops all the elements from the middle (4) to the lowest bound because 59 is greater than 24, and now the array is left with 5 elements only. Binary search looks for a particular item by comparing the middle most item of the collection. If a match occurs, then the index of item is returned. If the middle item is greater than the item, then the item is searched in the sub-array to the left of the middle item. Otherwise, the item is searched for in the sub-array to the right of the middle item. This process continues on the sub-array as well until the size of the subarray reduces to zero.\")"
   ]
  },
  {
   "cell_type": "code",
   "execution_count": 6,
   "id": "higher-buffer",
   "metadata": {},
   "outputs": [
    {
     "name": "stdout",
     "output_type": "stream",
     "text": [
      "Chapter 11 Learnings:\n",
      "\n",
      "In this chapter that I learn is the Bubble sort is a basic algorithm for arranging a string of numbers or other elements in the correct order. The method works by examining each set of adjacent elements in the string, from left to right, switching their positions if they are out of order. Example for this: First Pass: ( 5 1 4 2 8 ) –> ( 1 5 4 2 8 ), Here, algorithm compares the first two elements, and swaps since 5 > 1. It is important because A bubble sort algorithm goes through a list of data a number of times, comparing two items that are side by side to see which is out of order. It will keep going through the list of data until all the data is sorted into order. Bubble sort, sometimes referred to as sinking sort, is a simple sorting algorithm that repeatedly steps through the list, compares adjacent elements and swaps them if they are in the wrong order. The pass through the list is repeated until the list is sorted.\n"
     ]
    }
   ],
   "source": [
    "print(\"Chapter 11 Learnings:\")\n",
    "print(\"\")\n",
    "print(\"In this chapter that I learn is the Bubble sort is a basic algorithm for arranging a string of numbers or other elements in the correct order. The method works by examining each set of adjacent elements in the string, from left to right, switching their positions if they are out of order. Example for this: First Pass: ( 5 1 4 2 8 ) –> ( 1 5 4 2 8 ), Here, algorithm compares the first two elements, and swaps since 5 > 1. It is important because A bubble sort algorithm goes through a list of data a number of times, comparing two items that are side by side to see which is out of order. It will keep going through the list of data until all the data is sorted into order. Bubble sort, sometimes referred to as sinking sort, is a simple sorting algorithm that repeatedly steps through the list, compares adjacent elements and swaps them if they are in the wrong order. The pass through the list is repeated until the list is sorted.\")\n"
   ]
  },
  {
   "cell_type": "code",
   "execution_count": 7,
   "id": "voluntary-suspect",
   "metadata": {},
   "outputs": [
    {
     "name": "stdout",
     "output_type": "stream",
     "text": [
      "Chapter 12 Learnings:\n",
      "\n",
      "On this chapter Quicksort is a divide-and-conquer algorithm. It works by selecting a ‘pivot’ element from the array and partitioning the other elements into two sub-arrays, according to whether they are less than or greater than the pivot. The sub-arrays are then sorted recursively. In simple QuickSort algorithm, we select an element as pivot, partition the array around pivot and recur for subarrays on left and right of pivot. Consider an array which has many redundant elements. For example, {1, 4, 2, 4, 2, 4, 1, 2, 4, 1, 2, 2, 2, 2, 4, 1, 4, 4, 4}. A sorting algorithm will put items in a list into an order, such as alphabetical or numerical order. … Sorting a list of items can take a long time, especially if it is a large list. A computer program can be created to do this, making sorting a list of data much easier. There are many types of sorting algorithms. That is all about on this chapter.\n"
     ]
    }
   ],
   "source": [
    "print(\"Chapter 12 Learnings:\")\n",
    "print(\"\")\n",
    "print(\"On this chapter Quicksort is a divide-and-conquer algorithm. It works by selecting a ‘pivot’ element from the array and partitioning the other elements into two sub-arrays, according to whether they are less than or greater than the pivot. The sub-arrays are then sorted recursively. In simple QuickSort algorithm, we select an element as pivot, partition the array around pivot and recur for subarrays on left and right of pivot. Consider an array which has many redundant elements. For example, {1, 4, 2, 4, 2, 4, 1, 2, 4, 1, 2, 2, 2, 2, 4, 1, 4, 4, 4}. A sorting algorithm will put items in a list into an order, such as alphabetical or numerical order. … Sorting a list of items can take a long time, especially if it is a large list. A computer program can be created to do this, making sorting a list of data much easier. There are many types of sorting algorithms. That is all about on this chapter.\")"
   ]
  },
  {
   "cell_type": "code",
   "execution_count": 8,
   "id": "negative-basement",
   "metadata": {},
   "outputs": [
    {
     "name": "stdout",
     "output_type": "stream",
     "text": [
      "Chapter 13 Learnings:\n",
      "\n",
      "In this chapter I have a lot of learning, Insertion sort is a simple sorting algorithm that builds the final sorted array or list one item at a time. Adaptive, i.e., efficient for data sets that are already substantially sorted: the time complexity is O kn when each element in the input is no more than k places away from its sorted position. For example, the lower part of an array is maintained to be sorted. An element which is to be inserted in this sorted sub-list, has to find its appropriate place and then it has to be inserted there. Hence the name, insertion sort.  It is efficient for smaller data sets, but very inefficient for larger lists. Insertion Sort is adaptive, that means it reduces its total number of steps if given a partially sorted list, hence it increases its efficiency. Its space complexity is less.\n"
     ]
    }
   ],
   "source": [
    "print(\"Chapter 13 Learnings:\")\n",
    "print(\"\")\n",
    "print(\"In this chapter I have a lot of learning, Insertion sort is a simple sorting algorithm that builds the final sorted array or list one item at a time. Adaptive, i.e., efficient for data sets that are already substantially sorted: the time complexity is O kn when each element in the input is no more than k places away from its sorted position. For example, the lower part of an array is maintained to be sorted. An element which is to be inserted in this sorted sub-list, has to find its appropriate place and then it has to be inserted there. Hence the name, insertion sort.  It is efficient for smaller data sets, but very inefficient for larger lists. Insertion Sort is adaptive, that means it reduces its total number of steps if given a partially sorted list, hence it increases its efficiency. Its space complexity is less.\")"
   ]
  },
  {
   "cell_type": "code",
   "execution_count": 9,
   "id": "under-evaluation",
   "metadata": {},
   "outputs": [
    {
     "name": "stdout",
     "output_type": "stream",
     "text": [
      "Chapter 14 Learnings:\n",
      "\n",
      "In this chapter is all about Merge Sort, Merge sort is a sorting technique based on divide and conquer technique. With worst-case time complexity being O n log n, it is one of the most respected algorithms. Merge sort first divides the array into equal halves and then combines them in a sorted manner.  sort is one of the most efficient sorting algorithms. It works on the principle of Divide and Conquer. Merge sort repeatedly breaks down a list into several sub lists until each sub list consists of a single element and merging those sub lists in a manner that results into a sorted list. A sorting algorithm will put items in a list into an order, such as alphabetical or numerical order. Sorting a list of items can take a long time, especially if it is a large list. A computer program can be created to do this, making sorting a list of data much easier.\n"
     ]
    }
   ],
   "source": [
    "print(\"Chapter 14 Learnings:\")\n",
    "print(\"\")\n",
    "print(\"In this chapter is all about Merge Sort, Merge sort is a sorting technique based on divide and conquer technique. With worst-case time complexity being O n log n, it is one of the most respected algorithms. Merge sort first divides the array into equal halves and then combines them in a sorted manner.  sort is one of the most efficient sorting algorithms. It works on the principle of Divide and Conquer. Merge sort repeatedly breaks down a list into several sub lists until each sub list consists of a single element and merging those sub lists in a manner that results into a sorted list. A sorting algorithm will put items in a list into an order, such as alphabetical or numerical order. Sorting a list of items can take a long time, especially if it is a large list. A computer program can be created to do this, making sorting a list of data much easier.\")"
   ]
  },
  {
   "cell_type": "code",
   "execution_count": 10,
   "id": "lined-terrorist",
   "metadata": {},
   "outputs": [
    {
     "name": "stdout",
     "output_type": "stream",
     "text": [
      "Chapter 15 Learnings:\n",
      "\n",
      "Shell sort is a sorting algorithm that first sorts the elements far apart from each other and successively reduces the interval between the elements to be sorted. It is a generalized version of insertion sort. In shell sort, elements at a specific interval are sorted. Shell sort is an optimization of insertion sort that allows the exchange of items that are far apart. The idea is to arrange the list of elements so that, starting anywhere, taking every hth element produces a sorted list. Such a list is said to be h-sorted. Shell sort is an improvement on insertion sort that allows the exchange of elements that are far apart. Shell sort algorithm sorts separate sub-arrays of the original input array. These sub-arrays contain every hth element of the original array. And an array that is 5-sorted, becomes 5-ordered. Shell sort is an algorithm that first sorts the elements far apart from each other and successively reduces the interval between the elements to be sorted. It is a generalized version of insertion sort. The performance of the shell sort depends on the type of sequence used for a given input array.\n"
     ]
    }
   ],
   "source": [
    "print(\"Chapter 15 Learnings:\")\n",
    "print(\"\")\n",
    "print(\"Shell sort is a sorting algorithm that first sorts the elements far apart from each other and successively reduces the interval between the elements to be sorted. It is a generalized version of insertion sort. In shell sort, elements at a specific interval are sorted. Shell sort is an optimization of insertion sort that allows the exchange of items that are far apart. The idea is to arrange the list of elements so that, starting anywhere, taking every hth element produces a sorted list. Such a list is said to be h-sorted. Shell sort is an improvement on insertion sort that allows the exchange of elements that are far apart. Shell sort algorithm sorts separate sub-arrays of the original input array. These sub-arrays contain every hth element of the original array. And an array that is 5-sorted, becomes 5-ordered. Shell sort is an algorithm that first sorts the elements far apart from each other and successively reduces the interval between the elements to be sorted. It is a generalized version of insertion sort. The performance of the shell sort depends on the type of sequence used for a given input array.\")"
   ]
  },
  {
   "cell_type": "code",
   "execution_count": 11,
   "id": "vulnerable-delicious",
   "metadata": {},
   "outputs": [
    {
     "name": "stdout",
     "output_type": "stream",
     "text": [
      "Chapter 16 Learnings:\n",
      "\n",
      "In this chapter we talk about Selection sort is a simple sorting algorithm.  The smallest element is selected from the unsorted array and swapped with the leftmost element, and that element becomes a part of the sorted array. This process continues moving unsorted array boundary by one element to the right. Selection sort is basically a selection of an element position from the start with the other rest of the elements. Elements are compared and exchanged depending on the condition and then selection position is shifted to the next position till it reaches to the end. Selection sort is a simple sorting algorithm. This sorting algorithm is an in-place comparison-based algorithm in which the list is divided into two parts, the sorted part at the left end and the unsorted part at the right end. Initially, the sorted part is empty and the unsorted part is the entire list. In selection sort, the first element in the list is selected and it is compared repeatedly with all the remaining elements in the list. \n"
     ]
    }
   ],
   "source": [
    "print(\"Chapter 16 Learnings:\")\n",
    "print(\"\")\n",
    "print(\"In this chapter we talk about Selection sort is a simple sorting algorithm.  The smallest element is selected from the unsorted array and swapped with the leftmost element, and that element becomes a part of the sorted array. This process continues moving unsorted array boundary by one element to the right. Selection sort is basically a selection of an element position from the start with the other rest of the elements. Elements are compared and exchanged depending on the condition and then selection position is shifted to the next position till it reaches to the end. Selection sort is a simple sorting algorithm. This sorting algorithm is an in-place comparison-based algorithm in which the list is divided into two parts, the sorted part at the left end and the unsorted part at the right end. Initially, the sorted part is empty and the unsorted part is the entire list. In selection sort, the first element in the list is selected and it is compared repeatedly with all the remaining elements in the list. \")"
   ]
  },
  {
   "cell_type": "code",
   "execution_count": 12,
   "id": "hazardous-affair",
   "metadata": {},
   "outputs": [
    {
     "name": "stdout",
     "output_type": "stream",
     "text": [
      "Chapter 17 Learnings:\n",
      "\n",
      "In recursion, a function or method has the ability of calling itself to solve the problem. The process of recursion involves solving a problem by turning it into smaller varieties of itself. The process in which a function calls itself could happen directly as well as indirectly. For example, we can define the operation “find your way home” as: If you are at home, stop moving. Python also accepts function recursion, which means a defined function can call itself. Recursion is a common mathematical and programming concept. It means that a function calls itself. This has the benefit of meaning that you can loop through data to reach a result. Recursion is important because it often allows a breathtakingly simple algorithmic solution to certain problems that would otherwise be practically unobtainable with an iterative algorithm. Recursive problems are natural problems, and recursion is the best way to think about them.\n"
     ]
    }
   ],
   "source": [
    "print(\"Chapter 17 Learnings:\")\n",
    "print(\"\")\n",
    "print(\"In recursion, a function or method has the ability of calling itself to solve the problem. The process of recursion involves solving a problem by turning it into smaller varieties of itself. The process in which a function calls itself could happen directly as well as indirectly. For example, we can define the operation “find your way home” as: If you are at home, stop moving. Python also accepts function recursion, which means a defined function can call itself. Recursion is a common mathematical and programming concept. It means that a function calls itself. This has the benefit of meaning that you can loop through data to reach a result. Recursion is important because it often allows a breathtakingly simple algorithmic solution to certain problems that would otherwise be practically unobtainable with an iterative algorithm. Recursive problems are natural problems, and recursion is the best way to think about them.\")"
   ]
  },
  {
   "cell_type": "code",
   "execution_count": 13,
   "id": "ultimate-offer",
   "metadata": {},
   "outputs": [
    {
     "name": "stdout",
     "output_type": "stream",
     "text": [
      "II. Answer the following questions:\n"
     ]
    }
   ],
   "source": [
    "print(\"II. Answer the following questions:\")"
   ]
  },
  {
   "cell_type": "code",
   "execution_count": 14,
   "id": "young-transsexual",
   "metadata": {},
   "outputs": [
    {
     "name": "stdout",
     "output_type": "stream",
     "text": [
      "Implement the simple methods get_num and get_den that will return the numerator and denominator of a fraction.\n",
      "\n",
      "Numerator:  8\n",
      "Denominator:  4\n"
     ]
    }
   ],
   "source": [
    "print(\"Implement the simple methods get_num and get_den that will return the numerator and denominator of a fraction.\")\n",
    "print(\"\")\n",
    "def get_num(num1):\n",
    "    return num1\n",
    "def get_den(den1):\n",
    "    return den1\n",
    "\n",
    "num = 8\n",
    "den = 4\n",
    "\n",
    "print(\"Numerator: \",get_num(num))\n",
    "print(\"Denominator: \",get_den(den))\n"
   ]
  },
  {
   "cell_type": "code",
   "execution_count": 15,
   "id": "running-greensboro",
   "metadata": {},
   "outputs": [
    {
     "name": "stdout",
     "output_type": "stream",
     "text": [
      "Research the __radd__ method. How does it differ from __add__? When is it used? Implement __radd__\n",
      "\n",
      "__add__ is to take an input string and then return an instance which contains the data and concatenate it while __radd__ adds the string first then the user-defined class comes next to it.\n",
      "\n",
      "<__main__.Upper object at 0x0000022EA94F9CD0>\n"
     ]
    }
   ],
   "source": [
    "print(\"Research the __radd__ method. How does it differ from __add__? When is it used? Implement __radd__\")\n",
    "print(\"\")\n",
    "\n",
    "print(\"__add__ is to take an input string and then return an instance which contains the data and concatenate it while __radd__ adds the string first then the user-defined class comes next to it.\")\n",
    "print(\"\")\n",
    "class Upper:\n",
    "    def __init__(self, initial):\n",
    "        self.data = initial.upper()\n",
    "    def __add__(self,other):\n",
    "        return Upper(self.data + other)\n",
    "\n",
    "u = Upper('Nani')\n",
    "\n",
    "a = u+\"Who knows\" \n",
    "\n",
    "print(a)"
   ]
  },
  {
   "cell_type": "code",
   "execution_count": 16,
   "id": "direct-royal",
   "metadata": {},
   "outputs": [
    {
     "name": "stdout",
     "output_type": "stream",
     "text": [
      "Research the __repr__ method. How does it differ from __str__? When is it used? Implement __repr__.\n",
      "\n",
      ". __repr__ goal is to be unambiguous while __str__ goal is to be readable\n",
      "\n",
      "Instance Name of class User\n"
     ]
    }
   ],
   "source": [
    "print(\"Research the __repr__ method. How does it differ from __str__? When is it used? Implement __repr__.\")\n",
    "print(\"\")\n",
    "print(\". __repr__ goal is to be unambiguous while __str__ goal is to be readable\")\n",
    "print(\"\")\n",
    "class User:\n",
    "    def __init__(self, name):\n",
    "        self.username = name\n",
    "    def __repr__(self):\n",
    "        return 'Instance {} of class User'.format(self.username)\n",
    "\n",
    "lp = User('Name')\n",
    "\n",
    "print(lp)"
   ]
  },
  {
   "cell_type": "code",
   "execution_count": 17,
   "id": "driving-quality",
   "metadata": {},
   "outputs": [
    {
     "name": "stdout",
     "output_type": "stream",
     "text": [
      "The most simple arithmetic circuit is known as the half adder. Research the simple half-adder circuit. Implement this circuit.\n",
      "\n",
      "The SUM is:   108\n",
      "CARRY is:     16\n"
     ]
    }
   ],
   "source": [
    "print(\"The most simple arithmetic circuit is known as the half adder. Research the simple half-adder circuit. Implement this circuit.\")\n",
    "print(\"\")\n",
    "def getResult(X, Y):\n",
    "\tSum = X ^ Y\n",
    "\tCarry = X & Y\n",
    "\tprint(\"The SUM is:  \", Sum)\n",
    "\tprint(\"CARRY is:    \", Carry)\n",
    "\n",
    "X = 80\n",
    "Y = 60\n",
    "getResult(X, Y)"
   ]
  },
  {
   "cell_type": "code",
   "execution_count": 18,
   "id": "cleared-designation",
   "metadata": {},
   "outputs": [
    {
     "name": "stdout",
     "output_type": "stream",
     "text": [
      "Design a class to represent a playing card and another one to represent a deck of cards. Using these two classes, implement your favorite card game.\n",
      "\n"
     ]
    }
   ],
   "source": [
    "print(\"Design a class to represent a playing card and another one to represent a deck of cards. Using these two classes, implement your favorite card game.\")\n",
    "print(\"\")\n",
    "class Card(object):\n",
    "    \"\"\" Represents a standard playing card.\n",
    "    Attributes:\n",
    "        suit: Integer 0-3\n",
    "        rank: Integer 1-13\n",
    "    \"\"\"\n",
    "\n",
    "    suit_names = [\"Clubs\", \"Diamonds\", \"Hearts\", \"Spades\"]\n",
    "    rank_names = [None, \"2\", \"3\", \"4\", \"5\", \"6\", \"7\", \"8\",\n",
    "                  \"9\", \"10\", \"Jack\", \"Queen\", \"King\", \"Ace\"]\n",
    "\n",
    "    def __init__(self, suit=0, rank=1):\n",
    "        self.suit = suit\n",
    "        self.rank = rank\n",
    "\n",
    "    def __str__(self):\n",
    "        \"\"\" returns a human readable string representation \"\"\"\n",
    "        return '%s of %s' % (Card.rank_names[self.rank],\n",
    "                             Card.suit_names[self.suit])\n",
    "\n",
    "    def __lt__(self, other):\n",
    "        \"\"\" Compares this card to other, only by rank (no suit comparison)\n",
    "        Returns a positive number if this > other, negative otherwise.\n",
    "        Returns 0 if the cards are of same rank\n",
    "        \"\"\"\n",
    "        # t1 = self.rank\n",
    "        # t2 = other.rank\n",
    "        t1 = self.suit, self.rank\n",
    "        t2 = other.suit, other.rank\n",
    "        return t1 < t2\n",
    "\n",
    "    def getRank(self):\n",
    "        return self.rank"
   ]
  },
  {
   "cell_type": "code",
   "execution_count": 19,
   "id": "frozen-testing",
   "metadata": {},
   "outputs": [
    {
     "name": "stdout",
     "output_type": "stream",
     "text": [
      "Design and implement an experiment to do benchmark comparisons of the two queue(enqueue,dequeue) implementations. What can you learn from such an experiment?\n",
      "\n",
      "<__main__.Queue object at 0x0000022EA94F9C40>\n",
      "deque(['James', 'William', 'Augustin'])\n",
      "Adding to the right: \n",
      "deque(['James', 'William', 'Augustin', 'Ginny'])\n",
      "Adding to the left: \n",
      "deque(['Fred', 'James', 'William', 'Augustin', 'Ginny'])\n",
      "Removing from the right: \n",
      "deque(['Fred', 'James', 'William', 'Augustin'])\n",
      "Removing from the left: \n",
      "deque(['James', 'William', 'Augustin'])\n",
      "Reversing the deque: \n",
      "deque(['Augustin', 'William', 'James'])\n"
     ]
    }
   ],
   "source": [
    "print(\"Design and implement an experiment to do benchmark comparisons of the two queue(enqueue,dequeue) implementations. What can you learn from such an experiment?\")\n",
    "print(\"\")\n",
    "class Queue:\n",
    " \n",
    "  def __init__(self):\n",
    "      self.queue = list()\n",
    " \n",
    "  def addToQueue(self,value):\n",
    "# Insert method to add element\n",
    "      if value not in self.queue:\n",
    "          self.queue.insert(0,value)\n",
    "          return True\n",
    "      return False\n",
    " \n",
    "  def size(self):\n",
    "      return len(self.queue)\n",
    " \n",
    "MyFavoriteArtist = Queue()\n",
    "MyFavoriteArtist.addToQueue(\"Daniel Padilla\")\n",
    "MyFavoriteArtist.addToQueue(\"Kathryn Bernardo\")\n",
    "MyFavoriteArtist.addToQueue(\"Enrique Gil\")\n",
    "MyFavoriteArtist.addToQueue(\"Liza Soberano\")\n",
    "MyFavoriteArtist.addToQueue(\"Jack Roberto\")\n",
    "print(MyFavoriteArtist)\n",
    "\n",
    "import collections\n",
    " \n",
    "# Create a deque\n",
    "DoubleEnded = collections.deque([\"James\",\"William\",\"Augustin\"])\n",
    "print (DoubleEnded)\n",
    " \n",
    "# Append to the right\n",
    "print(\"Adding to the right: \")\n",
    "DoubleEnded.append(\"Ginny\")\n",
    "print (DoubleEnded)\n",
    " \n",
    "# append to the left\n",
    "print(\"Adding to the left: \")\n",
    "DoubleEnded.appendleft(\"Fred\")\n",
    "print (DoubleEnded)\n",
    " \n",
    "# Remove from the right\n",
    "print(\"Removing from the right: \")\n",
    "DoubleEnded.pop()\n",
    "print (DoubleEnded)\n",
    " \n",
    "# Remove from the left\n",
    "print(\"Removing from the left: \")\n",
    "DoubleEnded.popleft()\n",
    "print (DoubleEnded)\n",
    " \n",
    "# Reverse the dequeue\n",
    "print(\"Reversing the deque: \")\n",
    "DoubleEnded.reverse()\n",
    "print (DoubleEnded)"
   ]
  },
  {
   "cell_type": "code",
   "execution_count": 20,
   "id": "shaped-topic",
   "metadata": {},
   "outputs": [
    {
     "name": "stdout",
     "output_type": "stream",
     "text": [
      "Consider a real life situation. Formulate a question and then design a simulation that can help to answer it.\n",
      "\n",
      "Getting Injured. How to minimize road incidents?\n",
      "• Wear Right Gear\n",
      "• Strengthen muscles \n",
      "• Increase flexibility\n",
      "• Use the proper technique \n",
      "• Discipline to your body\n"
     ]
    }
   ],
   "source": [
    "print(\"Consider a real life situation. Formulate a question and then design a simulation that can help to answer it.\")\n",
    "print(\"\")\n",
    "print(\"Getting Injured. How to minimize road incidents?\")\n",
    "print(\"• Wear Right Gear\")\n",
    "print(\"• Strengthen muscles \")\n",
    "print(\"• Increase flexibility\")\n",
    "print(\"• Use the proper technique \")\n",
    "print(\"• Discipline to your body\")"
   ]
  },
  {
   "cell_type": "code",
   "execution_count": 21,
   "id": "bound-female",
   "metadata": {},
   "outputs": [
    {
     "name": "stdout",
     "output_type": "stream",
     "text": [
      "Implement a queue using linked lists.\n",
      "\n",
      "['Meriam', 'Zambas', 'Aguilor', 'Meriam']\n",
      "Meriam\n",
      "['Zambas', 'Aguilor', 'Meriam']\n",
      "Zambas\n",
      "['Aguilor', 'Meriam']\n"
     ]
    }
   ],
   "source": [
    "print(\"Implement a queue using linked lists.\")\n",
    "print(\"\")\n",
    "queue = [\"Meriam\", \"Zambas\"]\n",
    "queue.append(\"Aguilor\")\n",
    "queue.append(\"Meriam\")\n",
    "print(queue)\n",
    "  \n",
    "# Removes the first item\n",
    "print(queue.pop(0))\n",
    "  \n",
    "print(queue)\n",
    "  \n",
    "# Removes the first item\n",
    "print(queue.pop(0))\n",
    "  \n",
    "print(queue)"
   ]
  },
  {
   "cell_type": "code",
   "execution_count": 22,
   "id": "cellular-plastic",
   "metadata": {},
   "outputs": [
    {
     "name": "stdout",
     "output_type": "stream",
     "text": [
      "Write a recursive function to compute the factorial of a number.\n",
      "\n",
      "The factorial of 12 is 479001600\n"
     ]
    }
   ],
   "source": [
    "print(\"Write a recursive function to compute the factorial of a number.\")\n",
    "print(\"\")\n",
    "\n",
    "def recur_factorial(n):\n",
    "   if n == 1:\n",
    "       return n\n",
    "   else:\n",
    "       return n*recur_factorial(n-1)\n",
    "\n",
    "num = 12\n",
    "\n",
    "\n",
    "print(\"The factorial of\", num, \"is\", recur_factorial(num))\n"
   ]
  },
  {
   "cell_type": "code",
   "execution_count": 23,
   "id": "bored-nepal",
   "metadata": {},
   "outputs": [
    {
     "name": "stdout",
     "output_type": "stream",
     "text": [
      "Set up a random experiment to test the difference between a sequential search and a binary search on a list of integers.\n",
      "\n",
      "Element is present at index 3\n",
      "(True, 3)\n"
     ]
    }
   ],
   "source": [
    "print(\"Set up a random experiment to test the difference between a sequential search and a binary search on a list of integers.\")\n",
    "print(\"\")\n",
    "def binary_search(arr, low, high, x):\n",
    " \n",
    "    # Check base case\n",
    "    if high >= low:\n",
    " \n",
    "        mid = (high + low) // 2\n",
    " \n",
    "        # If element is present at the middle itself\n",
    "        if arr[mid] == x:\n",
    "            return mid\n",
    " \n",
    "        # If element is smaller than mid, then it can only\n",
    "        # be present in left subarray\n",
    "        elif arr[mid] > x:\n",
    "            return binary_search(arr, low, mid - 1, x)\n",
    " \n",
    "        # Else the element can only be present in right subarray\n",
    "        else:\n",
    "            return binary_search(arr, mid + 1, high, x)\n",
    " \n",
    "    else:\n",
    "        # Element is not present in the array\n",
    "        return -1\n",
    " \n",
    "# Test array\n",
    "arr = [ 2, 3, 4, 10, 40 ]\n",
    "x = 10\n",
    " \n",
    "# Function call\n",
    "result = binary_search(arr, 0, len(arr)-1, x)\n",
    " \n",
    "if result != -1:\n",
    "    print(\"Element is present at index\", str(result))\n",
    "else:\n",
    "    print(\"Element is not present in array\")\n",
    "\n",
    "\n",
    "def Sequential_Search(dlist, item):\n",
    "\n",
    "    pos = 0\n",
    "    found = False\n",
    "    \n",
    "    while pos < len(dlist) and not found:\n",
    "        if dlist[pos] == item:\n",
    "            found = True\n",
    "        else:\n",
    "            pos = pos + 1\n",
    "    \n",
    "    return found, pos\n",
    "\n",
    "print(Sequential_Search([11,23,58,31,56,77,43,12,65,19],31))\n"
   ]
  },
  {
   "cell_type": "code",
   "execution_count": 24,
   "id": "operational-shadow",
   "metadata": {},
   "outputs": [
    {
     "name": "stdout",
     "output_type": "stream",
     "text": [
      "Suppose you are a computer scientist/art thief who has broken into a major art gallery. All you have with you to haul out your stolen art is your knapsack which only holds W pounds of art, but for every piece of art you know its value and its weight. Write a dynamic programming function to help you maximize your profit. Here is a sample problem for you to use to get started: Suppose your knapsack can hold a total weight of 20. \n",
      "\n",
      "8\n"
     ]
    }
   ],
   "source": [
    "print(\"Suppose you are a computer scientist/art thief who has broken into a major art gallery. All you have with you to haul out your stolen art is your knapsack which only holds W pounds of art, but for every piece of art you know its value and its weight. Write a dynamic programming function to help you maximize your profit. Here is a sample problem for you to use to get started: Suppose your knapsack can hold a total weight of 20. \")\n",
    "print(\"\")\n",
    "def knapSack(W, wt, val, n):\n",
    "\n",
    "\t# Base Case\n",
    "\tif n == 0 or W == 0:\n",
    "\t\treturn 0\n",
    "\n",
    "\t# If weight of the nth item is\n",
    "\t# more than Knapsack of capacity W,\n",
    "\t# then this item cannot be included\n",
    "\t# in the optimal solution\n",
    "\tif (wt[n-1] > W):\n",
    "\t\treturn knapSack(W, wt, val, n-1)\n",
    "\n",
    "\t# return the maximum of two cases:\n",
    "\t# (1) nth item included\n",
    "\t# (2) not included\n",
    "\telse:\n",
    "\t\treturn max(\n",
    "\t\t\tval[n-1] + knapSack(\n",
    "\t\t\t\tW-wt[n-1], wt, val, n-1),\n",
    "\t\t\tknapSack(W, wt, val, n-1))\n",
    "\n",
    "# end of function knapSack\n",
    "\n",
    "\n",
    "#Driver Code\n",
    "val = [3, 4, 8,8,10]\n",
    "wt = [2, 3, 4,5,9]\n",
    "W = 5\n",
    "n = len(val)\n",
    "print (knapSack(W, wt, val, n))\n",
    "\n",
    "# This code is contributed by Nikhil Kumar Singh\n"
   ]
  },
  {
   "cell_type": "code",
   "execution_count": null,
   "id": "quantitative-detail",
   "metadata": {},
   "outputs": [],
   "source": []
  }
 ],
 "metadata": {
  "kernelspec": {
   "display_name": "Python 3",
   "language": "python",
   "name": "python3"
  },
  "language_info": {
   "codemirror_mode": {
    "name": "ipython",
    "version": 3
   },
   "file_extension": ".py",
   "mimetype": "text/x-python",
   "name": "python",
   "nbconvert_exporter": "python",
   "pygments_lexer": "ipython3",
   "version": "3.9.5"
  }
 },
 "nbformat": 4,
 "nbformat_minor": 5
}
